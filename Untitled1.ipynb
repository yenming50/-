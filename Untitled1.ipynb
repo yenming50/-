{
  "nbformat": 4,
  "nbformat_minor": 0,
  "metadata": {
    "colab": {
      "provenance": []
    },
    "kernelspec": {
      "name": "python3",
      "display_name": "Python 3"
    },
    "language_info": {
      "name": "python"
    }
  },
  "cells": [
    {
      "cell_type": "code",
      "execution_count": 9,
      "metadata": {
        "colab": {
          "base_uri": "https://localhost:8080/"
        },
        "id": "09JHK7999rt0",
        "outputId": "a93b71fc-3944-4960-d499-f2a697dcecf7"
      },
      "outputs": [
        {
          "output_type": "stream",
          "name": "stdout",
          "text": [
            "name: <class 'str'> , number\n",
            "{'name': '廖彥銘', 'number': 'B1205051'}\n"
          ]
        }
      ],
      "source": [
        "name = \"廖彥銘\"\n",
        "number = \"B1205051\"\n",
        "print('name:', type(name), ',', 'number')\n",
        "self_information = {'name' : name, 'number' : number}\n",
        "print(self_information)"
      ]
    }
  ]
}